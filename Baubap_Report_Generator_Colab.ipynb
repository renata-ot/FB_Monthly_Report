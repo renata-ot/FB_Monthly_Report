{
 "cells": [
  {
   "cell_type": "markdown",
   "metadata": {},
   "source": [
    "# 📄 Baubap — Generador de PDF mensual (estilo V29)\n",
    "\n",
    "Este notebook genera un PDF **idéntico al V29** a partir del Excel maestro.\n",
    "\n",
    "**Flujo:**\n",
    "1. Instalar dependencias\n",
    "2. Escribir el script `generar_pdf_baubap.py`\n",
    "3. Subir `Maestro_Baubap_Reportes.xlsx`\n",
    "4. Definir el mes y ejecutar\n",
    "5. Descargar el PDF\n"
   ]
  },
  {
   "cell_type": "code",
   "execution_count": null,
   "metadata": {},
   "outputs": [],
   "source": [
    "# 1) Instalar dependencias\n",
    "!pip install -q pandas openpyxl reportlab matplotlib"
   ]
  },
  {
   "cell_type": "code",
   "execution_count": null,
   "metadata": {},
   "outputs": [],
   "source": [
    "# 2) Escribir el script generar_pdf_baubap.py en el entorno de Colab\n",
    "script_code = r'''#!/usr/bin/env python3\n",
    "# -*- coding: utf-8 -*-\n",
    "\"\"\"\n",
    "Genera un PDF EXACTAMENTE en el estilo de la V29 a partir del Excel maestro.\n",
    "Uso:\n",
    "  python generar_pdf_baubap.py --input Maestro_Baubap_Reportes.xlsx --month \"Febrero 2025\" --output Anexo_A_Baubap_Febrero2025.pdf\n",
    "Requiere:\n",
    "  pip install pandas openpyxl reportlab matplotlib\n",
    "\"\"\"\n",
    "\n",
    "import argparse\n",
    "import os\n",
    "import pandas as pd\n",
    "import matplotlib.pyplot as plt\n",
    "import matplotlib.ticker as mtick\n",
    "from datetime import datetime\n",
    "\n",
    "from reportlab.lib.pagesizes import letter\n",
    "from reportlab.platypus import SimpleDocTemplate, Table, TableStyle, Paragraph, Spacer, PageBreak, Image\n",
    "from reportlab.lib import colors\n",
    "from reportlab.lib.styles import ParagraphStyle, getSampleStyleSheet\n",
    "from reportlab.pdfbase.ttfonts import TTFont\n",
    "from reportlab.pdfbase import pdfmetrics\n",
    "\n",
    "def try_register_font(name, path):\n",
    "    try:\n",
    "        pdfmetrics.registerFont(TTFont(name, path))\n",
    "        return name\n",
    "    except Exception:\n",
    "        return None\n",
    "\n",
    "def format_currency(x, decimals=2):\n",
    "    try:\n",
    "        return f\"${float(x):,.{decimals}f}\"\n",
    "    except Exception:\n",
    "        return str(x)\n",
    "\n",
    "def format_int(x):\n",
    "    try:\n",
    "        return f\"{int(float(x)):,}\"\n",
    "    except Exception:\n",
    "        return str(x)\n",
    "\n",
    "def generate_pdf(input_xlsx, month_label, output_pdf):\n",
    "    # Fonts\n",
    "    doc_font = try_register_font(\"CenturyGothic\", \"/usr/share/fonts/truetype/msttcorefonts/centurygothic.ttf\") or \"Helvetica\"\n",
    "    graph_font = try_register_font(\"ArialNarrow\", \"/usr/share/fonts/truetype/msttcorefonts/arialn.ttf\") or \"Helvetica\"\n",
    "\n",
    "    # Read data\n",
    "    df_campaigns = pd.read_excel(input_xlsx, sheet_name=\"Campañas\")\n",
    "    df_detail = pd.read_excel(input_xlsx, sheet_name=\"Detail by Date\")\n",
    "\n",
    "    # Clean columns\n",
    "    df_campaigns = df_campaigns.rename(columns={\n",
    "        \"Spend (MXN)\": \"Spend (MXN)\"\n",
    "    })\n",
    "    df_detail = df_detail.rename(columns={\n",
    "        \"Date\": \"Date\",\n",
    "        \"Spend (MXN)\": \"Spend (MXN)\",\n",
    "        \"New Borrowers\": \"New Borrowers\",\n",
    "        \"CAC\": \"CAC\"\n",
    "    })\n",
    "\n",
    "    # Campaigns table\n",
    "    campaigns_headers = [\"Campaign name\", \"Reach\", \"Impressions\", \"Results\", \"Spend (MXN)\"]\n",
    "    campaigns_data = [campaigns_headers]\n",
    "    for _, row in df_campaigns.iterrows():\n",
    "        campaigns_data.append([\n",
    "            str(row.get(\"Campaign name\", \"\")),\n",
    "            format_int(row.get(\"Reach\", 0)),\n",
    "            format_int(row.get(\"Impressions\", 0)),\n",
    "            format_int(row.get(\"Results\", 0)),\n",
    "            format_currency(row.get(\"Spend (MXN)\", 0), 2)\n",
    "        ])\n",
    "\n",
    "    # Totals\n",
    "    total_spend = float(pd.to_numeric(df_detail[\"Spend (MXN)\"], errors=\"coerce\").fillna(0).sum())\n",
    "    total_nb = int(pd.to_numeric(df_detail[\"New Borrowers\"], errors=\"coerce\").fillna(0).sum())\n",
    "    avg_cac = (total_spend / total_nb) if total_nb > 0 else 0.0\n",
,
  {
   "cell_type": "code",
   "execution_count": null,
   "metadata": {},
   "outputs": [],
   "source": [
    "# 3) Subir el Excel maestro (Maestro_Baubap_Reportes.xlsx)\n",
    "from google.colab import files\n",
    "print(\"Sube tu archivo 'Maestro_Baubap_Reportes.xlsx' en la ventana emergente…\")\n",
    "uploaded = files.upload()\n",
    "list(uploaded.keys())"
   ]
  },
  {
   "cell_type": "code",
   "execution_count": null,
   "metadata": {},
   "outputs": [],
   "source": [
    "# 4) Configurar mes y nombre de salida, y ejecutar el generador\n",
    "MES = \"Febrero 2025\"            # <-- cámbialo cada mes\n",
    "INPUT = \"Maestro_Baubap_Reportes.xlsx\"  # nombre del Excel subido\n",
    "OUTPUT = f\"Anexo_A_Baubap_{MES.replace(' ', '')}.pdf\"  # nombre de salida sugerido\n",
    "\n",
    "!python generar_pdf_baubap.py --input \"$INPUT\" --month \"$MES\" --output \"$OUTPUT\""
   ]
  },
  {
   "cell_type": "code",
   "execution_count": null,
   "metadata": {},
   "outputs": [],
   "source": [
    "# 5) Descargar el PDF generado\n",
    "from google.colab import files\n",
    "files.download(OUTPUT)"
   ]
  }
 ],
 "metadata": {
  "colab": {
   "provenance": []
  },
  "kernelspec": {
   "display_name": "Python 3",
   "language": "python",
   "name": "python3"
  },
  "language_info": {
   "name": "python"
  }
 },
 "nbformat": 4,
 "nbformat_minor": 5
}
